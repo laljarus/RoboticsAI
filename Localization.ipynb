{
 "cells": [
  {
   "cell_type": "markdown",
   "metadata": {},
   "source": [
    "#### Artificial Intelligence for Robotics\n",
    "# Lesson 1: Localization"
   ]
  },
  {
   "cell_type": "markdown",
   "metadata": {},
   "source": [
    "## Intro\n",
    "\n",
    "In this course you will learn how to program self-driving cars! Specifically, in this unit, you will\n",
    "learn how to program a localizer, which is a directional aid used to assist machines in making\n",
    "informed navigation decisions.\n",
    "Over the past decade computer scientists have developed methods using sensors, radars and\n",
    "software to program vehicles with the ability to sense their own location, the locations of\n",
    "other vehicles and navigate a charted course.\n",
    "Stanford University Professor and director of the Stanford Artificial Intelligence Lab,\n",
    "Sebastian Thrun's autonomous cars, Stanley and Junior illustrate the progress that has been\n",
    "made in this field over the last decade. Additionally, the Google Driverless Car Project seeks to\n",
    "further research and development to make driverless cars a viable option for people\n",
    "everywhere. Driverless cars sound neat, huh? Want to program your own?\n",
    "\n",
    "Let's get started!\n"
   ]
  },
  {
   "cell_type": "markdown",
   "metadata": {},
   "source": [
    "## The Problem of Localization\n",
    "Localization is the ability for a machine to locate itself in space. Consider a robot lost in space. Within its environment, how can the robot locate where it is? Rather than install a GPS device in our robot, we are going to write a program to implement localization. Our localization program will reduce the margin of error considerably compared to a GPS device, whose margin of error can be as high as ten meters. For our robot to successfully and accurately navigate itself through space, we are looking for a margin of error between two and ten centimeters.\n",
    "\n",
    "Imagine a robot resides in a one-dimensional world, so somewhere along a straight line, with no idea where it is in this world. For an example of such a world, we can imagine a long, narrow hallway where it is only possible to move forward or backwards; sideways motion is impossible. Since our robot is completely clueless about its location, it believes that every point in this one dimensional world is equally likely to be its current position. We can describe this mathematically by saying that the robot's probability function is uniform (the same) over the sample space (in this case, the robot's one-dimensional world).\n",
    "If we were to draw a graph of this probability function with probability on the vertical axis and location on the horizontal axis, we would draw a straight, level line. This line describes a uniform probability function, and it represents the state of maximum confusion.\n",
    "\n"
   ]
  },
  {
   "cell_type": "markdown",
   "metadata": {},
   "source": [
    "<img src = \"./Img1.png\"/>"
   ]
  },
  {
   "cell_type": "markdown",
   "metadata": {},
   "source": [
    "Assume there are three landmarks, which are three doors that all look alike and we can distinguish a door from a non-door area.If the robot senses it is next to a door, how does this affect our belief — or the probability that the robot is near a door?\n",
    "\n",
    "<img src = \"./Img2.png\">\n",
    "\n",
    "In the new function, there are three bumps aligned with the location of the doors. Since the robot has just sensed that it is near a door, it assigns these locations greater probability (indicated by the bumps in the graph) whereas, all of the other locations have decreased belief.\n",
    "\n",
    "This function represents another probability distribution, called the posterior belief where the function is defined after the robot's sense measurement has been taken. Copyright © 2014 Udacity, Inc. All Rights Reserved. The posterior function is the best representation of the robot's current belief, where each bump represents the robot's evaluation of its position relative to a door. However, the possibility of making a bad measurement constantly looms over robotics, and over the course of this class we will see various ways to handle this problem.\n"
   ]
  },
  {
   "cell_type": "code",
   "execution_count": 34,
   "metadata": {
    "collapsed": false
   },
   "outputs": [
    {
     "name": "stdout",
     "output_type": "stream",
     "text": [
      "[0.0, 0.0, 0.8, 0.0, 0.0]\n"
     ]
    }
   ],
   "source": [
    "p=[0, 1, 0, 0, 0]\n",
    "world=['green', 'red', 'red', 'green', 'green']\n",
    "measurements = ['red', 'green']\n",
    "pHit = 0.6\n",
    "pMiss = 0.2\n",
    "pExact = 0.8\n",
    "pOvershoot = 0.1\n",
    "pUndershoot = 0.1\n",
    "\n",
    "def sense(p, Z):\n",
    "    q=[]\n",
    "    for i in range(len(p)):\n",
    "        hit = (Z == world[i])\n",
    "        q.append(p[i] * (hit * pHit + (1-hit) * pMiss))\n",
    "    s = sum(q)\n",
    "    for i in range(len(q)):\n",
    "        q[i] = q[i] / s\n",
    "    return q\n",
    "\n",
    "def move(p, U):\n",
    "    #\n",
    "    n = len(p)\n",
    "    q=range(len(p))\n",
    "    for i in range(n):\n",
    "        q[i] = p[(i-U)%len(p)]*pExact + p[(i-U+1)%len(p)]*pUndershoot + p[(i-U-1)%len(p)]*pOvershoot        \n",
    "    return q\n",
    "\n",
    "print move(p, 1)"
   ]
  },
  {
   "cell_type": "markdown",
   "metadata": {
    "collapsed": false
   },
   "source": [
    "New Change"
   ]
  }
 ],
 "metadata": {
  "kernelspec": {
   "display_name": "Python 2",
   "language": "python",
   "name": "python2"
  },
  "language_info": {
   "codemirror_mode": {
    "name": "ipython",
    "version": 2
   },
   "file_extension": ".py",
   "mimetype": "text/x-python",
   "name": "python",
   "nbconvert_exporter": "python",
   "pygments_lexer": "ipython2",
   "version": "2.7.13"
  }
 },
 "nbformat": 4,
 "nbformat_minor": 0
}
