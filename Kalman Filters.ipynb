{
 "cells": [
  {
   "cell_type": "markdown",
   "metadata": {},
   "source": [
    "## Kalman Filters"
   ]
  },
  {
   "cell_type": "markdown",
   "metadata": {},
   "source": [
    "## Function to calculate gaussian(uniform) distribution "
   ]
  },
  {
   "cell_type": "code",
   "execution_count": 10,
   "metadata": {
    "collapsed": false
   },
   "outputs": [
    {
     "name": "stdout",
     "output_type": "stream",
     "text": [
      "0.199471140201\n"
     ]
    }
   ],
   "source": [
    "from math import *\n",
    "\n",
    "def f(mu,sigma2,x):\n",
    "    return 1/sqrt(2.*pi*sigma2)*exp(-0.5*(mu-x)**2/sigma2)    \n",
    "\n",
    "print f(10.,4.,10.)"
   ]
  },
  {
   "cell_type": "code",
   "execution_count": 26,
   "metadata": {
    "collapsed": false
   },
   "outputs": [
    {
     "name": "stdout",
     "output_type": "stream",
     "text": [
      "[22.0, 8.0]\n"
     ]
    }
   ],
   "source": [
    "def update(mean1, var1, mean2, var2):\n",
    "    new_mean = (mean1*var2+mean2*var1)/(var1+var2)\n",
    "    new_var = var1*var2/(var1+var2)\n",
    "    return [new_mean, new_var]\n",
    "def predict(mean1,var1,mean2,var2):\n",
    "    new_mean = mean1+mean2\n",
    "    new_var = var1+var2\n",
    "    return [new_mean,new_var]\n",
    "\n",
    "print predict(10.,4.,12., 4.)"
   ]
  }
 ],
 "metadata": {
  "kernelspec": {
   "display_name": "Python 2",
   "language": "python",
   "name": "python2"
  },
  "language_info": {
   "codemirror_mode": {
    "name": "ipython",
    "version": 2
   },
   "file_extension": ".py",
   "mimetype": "text/x-python",
   "name": "python",
   "nbconvert_exporter": "python",
   "pygments_lexer": "ipython2",
   "version": "2.7.11"
  }
 },
 "nbformat": 4,
 "nbformat_minor": 0
}
